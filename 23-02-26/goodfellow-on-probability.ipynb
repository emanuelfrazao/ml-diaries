{
 "cells": [
  {
   "cell_type": "markdown",
   "metadata": {},
   "source": [
    "reading Goodfellow's Deep Learning book, chapter on Probability Theory applied to ML"
   ]
  },
  {
   "attachments": {},
   "cell_type": "markdown",
   "metadata": {},
   "source": [
    "here's _some wizz-kid from MIT_, making an amazing effort of presenting the way in which he views deep learning"
   ]
  },
  {
   "attachments": {},
   "cell_type": "markdown",
   "metadata": {},
   "source": [
    "* from the first superficial reading of the chapters:\n",
    "    - he seems amazing at capturing gently (yet extremely sound and organized -) the key problems addressed - really eye-opening to both the problems themselves, and to how one can present them\n",
    "    - when - for instance, in describing PCA - he goes technical, he seems to over-do it a bit - for the benefit of explaining the general idea whilst giving the detailed mathematical steps to arrive at it (suddenly a Murphy-styled presentation) - which really would make me lose the general idea then - my own immaturity (- but every new comer's immaturity shall be scared, then!)"
   ]
  },
  {
   "cell_type": "markdown",
   "metadata": {},
   "source": [
    "## why probability"
   ]
  },
  {
   "attachments": {},
   "cell_type": "markdown",
   "metadata": {},
   "source": [
    "* he introduces both the motivations and the goals of using probability theory to address machine learning tasks\n",
    "* cites jaynes and pearl (1988) for building the view - and gives it a very light yet purposeful framework"
   ]
  }
 ],
 "metadata": {
  "kernelspec": {
   "display_name": "deep",
   "language": "python",
   "name": "python3"
  },
  "language_info": {
   "codemirror_mode": {
    "name": "ipython",
    "version": 3
   },
   "file_extension": ".py",
   "mimetype": "text/x-python",
   "name": "python",
   "nbconvert_exporter": "python",
   "pygments_lexer": "ipython3",
   "version": "3.10.9"
  },
  "orig_nbformat": 4,
  "vscode": {
   "interpreter": {
    "hash": "fa0896bfa97e237aa923e1eedd704848f2ba47387b02b2a5560068e6d284088d"
   }
  }
 },
 "nbformat": 4,
 "nbformat_minor": 2
}
