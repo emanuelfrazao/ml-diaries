{
 "cells": [
  {
   "cell_type": "markdown",
   "metadata": {},
   "source": [
    "* being provoked by goodfellow's chapter on probability theory to try out pytorch"
   ]
  },
  {
   "cell_type": "markdown",
   "metadata": {},
   "source": [
    "## utils"
   ]
  },
  {
   "cell_type": "markdown",
   "metadata": {},
   "source": [
    "* making some utils for drawing probability distributions"
   ]
  },
  {
   "cell_type": "code",
   "execution_count": 3,
   "metadata": {},
   "outputs": [],
   "source": [
    "import matplotlib.pyplot as plt\n",
    "import seaborn as sns"
   ]
  },
  {
   "cell_type": "code",
   "execution_count": 1,
   "metadata": {},
   "outputs": [],
   "source": [
    "from torch import distributions as dist\n",
    "from torch import tensor, ones, zeros, arange, linspace\n",
    "import torch\n",
    "from functools import partial\n",
    "\n",
    "from torch.distributions.constraints import \\\n",
    "        Constraint, \\\n",
    "        _Real, _Interval, _IntegerInterval, \\\n",
    "        _GreaterThan, _GreaterThanEq\n"
   ]
  },
  {
   "cell_type": "code",
   "execution_count": 2,
   "metadata": {},
   "outputs": [],
   "source": [
    "def get_support_values(constraint: Constraint, steps: int = 100) -> torch.Tensor:\n",
    "    linspace = partial(torch.linspace, steps=steps)\n",
    "    \n",
    "    match constraint:\n",
    "        case _Real():\n",
    "            return torch.linspace(-10, 10, steps)\n",
    "        case _Interval():\n",
    "            return torch.linspace(constraint.lower_bound, constraint.upper_bound, 100)\n",
    "        case _IntegerInterval():\n",
    "            return torch.arange(constraint.lower_bound, constraint.upper_bound + 1)\n",
    "        case _GreaterThan():\n",
    "            return torch.linspace(constraint.lower_bound, constraint.upper_bound, 100)\n",
    "        case _:\n",
    "            return None\n",
    "    "
   ]
  },
  {
   "cell_type": "markdown",
   "metadata": {},
   "source": [
    "## probability distributions"
   ]
  },
  {
   "attachments": {},
   "cell_type": "markdown",
   "metadata": {},
   "source": [
    "* random variables are just variables that may take on different values, and of which one does not know the actual value in advance\n",
    "* instead, they are defined by association with a probability distribution:\n",
    "    * the probability attributed to each possible value - in discrete cases (dubbed PMF); or\n",
    "    * the probability attributed to each possible range of values - in continuous cases (dubbed PDF)\n",
    "* the probability distribution is thus a function - some mapping - which we'll name $p$ -with few restrictions that come as a simple consequence of the axioms of probability theory (in either presentation)\n",
    "    "
   ]
  },
  {
   "cell_type": "markdown",
   "metadata": {},
   "source": [
    "* probability theory gives a set of axioms for dealing with probability on any given statements $A, B, H$, and any given partition statements $E_1, E_2, ..., E_n$ (i.e., a mutually exclusive and comprehensive set of statements):\n",
    "    * absorbent value's convention: $0 \\leq P(A)$\n",
    "    * normalized values' convention: $P(A) \\leq 1$\n",
    "    * product rule: $P(A, B) = P(A|B)P(B)$, or $P(A, B|H) = P(A|B,H)P(B,H)$\n",
    "    * sum rule: $P(A \\text{ or } B) = P(A) + P(B) - P(A,B)$\n",
    "    * partition: $P(A) = \\sum P(A, E_i)$"
   ]
  },
  {
   "attachments": {},
   "cell_type": "markdown",
   "metadata": {},
   "source": [
    "* for our unidimensional r.v. case, we get:\n",
    "    * $\\forall x, p(x) \\geq 0$\n",
    "    * $\\sum_i p(x_i) = 1$, or $\\int_x p(x) = 1$"
   ]
  },
  {
   "attachments": {},
   "cell_type": "markdown",
   "metadata": {},
   "source": [
    "* naturally, if one r.v. is cast as a function of another, aka $Y = f(X)$ for some $f$,\n",
    "    * then the probability distribution of $Y$ is also a function of the probability for $X$\n",
    "    * given that it satisfies some general properties that most of our well behaved famous functions will do"
   ]
  },
  {
   "attachments": {},
   "cell_type": "markdown",
   "metadata": {},
   "source": [
    "* more so, for the distributions of r.v. associated with constructive assumptions (such as: the r.v. corresponding to the number of sucesses in a sequence of independent trials),\n",
    "    * one"
   ]
  },
  {
   "attachments": {},
   "cell_type": "markdown",
   "metadata": {},
   "source": [
    "### discrete variables"
   ]
  },
  {
   "attachments": {},
   "cell_type": "markdown",
   "metadata": {},
   "source": [
    "so, discrete r.v.'s may always be specified by a finite table of the form $x_i \\rightarrow p(x_i)$"
   ]
  },
  {
   "attachments": {},
   "cell_type": "markdown",
   "metadata": {},
   "source": [
    "#### **Categorical**"
   ]
  },
  {
   "cell_type": "markdown",
   "metadata": {},
   "source": [
    "* the **general case** in which one wants to specify the actual probability of each value goes by the names of:\n",
    "    * Categorical\n",
    "    * Multinoulli"
   ]
  },
  {
   "attachments": {},
   "cell_type": "markdown",
   "metadata": {},
   "source": [
    "* one such distribution is fully described by describing the probability of each possible value - its sufficient statistics; its parameters - sometimes dubbed $\\theta_1, ..., \\theta_n$, for $X \\in {1, ..., n}$"
   ]
  },
  {
   "cell_type": "code",
   "execution_count": 31,
   "metadata": {},
   "outputs": [
    {
     "data": {
      "image/png": "[encoded data removed]",
      "text/plain": [
       "<Figure size 640x480 with 1 Axes>"
      ]
     },
     "metadata": {},
     "output_type": "display_data"
    }
   ],
   "source": [
    "X_cat = dist.Categorical(probs=tensor([0.2, 0.3, 0.5]))\n",
    "ax = sns.countplot(x=X_cat.sample((100,)).numpy());\n",
    "ax.set_title(\"Samples from categorical distribution with probs=[0.2, 0.3, 0.5]\");"
   ]
  },
  {
   "attachments": {},
   "cell_type": "markdown",
   "metadata": {},
   "source": [
    "* well, some of the categorical distributions are special enough that they deserve their own name\n",
    "* in which sense - _special_?\n",
    "    * they have a generating procedure from which they are fully specified\n",
    "    * which simplifies the amount of information/parameters needed to specify the distribution\n",
    "    * one instead knows the probability as an expression of the value and the distribution's sufficient statistics"
   ]
  },
  {
   "attachments": {},
   "cell_type": "markdown",
   "metadata": {},
   "source": [
    "#### special cases of discrete"
   ]
  },
  {
   "cell_type": "markdown",
   "metadata": {},
   "source": [
    "##### **Bernoulli**"
   ]
  },
  {
   "cell_type": "markdown",
   "metadata": {},
   "source": [
    "* ***when we care about a binary variable***"
   ]
  },
  {
   "attachments": {},
   "cell_type": "markdown",
   "metadata": {},
   "source": [
    "* basically any r.v. with only 2 possible values $\\{x_1, x_2\\}$ may be cast as a Bernoulli distribution\n",
    "* when one equates $x_1 \\rightarrow 0$ and $x_2 \\rightarrow 1$\n",
    "* we may only care about the probability of $x_2$, aka $P(X=1)$, aka $p$, aka $\\theta$, etc\n",
    "    * since $P(X=0) = 1 - P(X=1) = 1 - p$\n",
    "* and name $x_2$ as our _success_, accordingly (!)"
   ]
  },
  {
   "attachments": {},
   "cell_type": "markdown",
   "metadata": {},
   "source": [
    "* if one so wishes, she can write:\n",
    "    * $X \\sim Bernoulli(\\theta)$\n",
    "    * $p(X) = \\theta^X (1 - \\theta)^{1 - X}$, in order to get a fully specified expression"
   ]
  },
  {
   "attachments": {},
   "cell_type": "markdown",
   "metadata": {},
   "source": [
    "##### **Binomial**"
   ]
  },
  {
   "attachments": {},
   "cell_type": "markdown",
   "metadata": {},
   "source": [
    "* ***when one cares about counting the number of successes in $n$ independent and binary trials***"
   ]
  },
  {
   "attachments": {},
   "cell_type": "markdown",
   "metadata": {},
   "source": [
    "##### **HyperGeometric**"
   ]
  },
  {
   "cell_type": "code",
   "execution_count": null,
   "metadata": {},
   "outputs": [],
   "source": []
  },
  {
   "cell_type": "code",
   "execution_count": 40,
   "metadata": {},
   "outputs": [
    {
     "data": {
      "image/png": "[encoded data removed]",
      "text/plain": [
       "<Figure size 640x480 with 1 Axes>"
      ]
     },
     "metadata": {},
     "output_type": "display_data"
    }
   ],
   "source": [
    "import matplotlib.pyplot as plt\n",
    "support = arange(-10, 10, .01)\n",
    "\n",
    "plt.plot(X.log_prob().exp());"
   ]
  },
  {
   "cell_type": "code",
   "execution_count": 8,
   "metadata": {},
   "outputs": [
    {
     "data": {
      "text/plain": [
       "tensor([[ 0.6834, -0.1529,  0.3176, -0.0976],\n",
       "        [-0.6953, -1.2232,  0.7205, -0.1257],\n",
       "        [ 0.8779,  0.5753,  1.4915, -1.3134]])"
      ]
     },
     "execution_count": 8,
     "metadata": {},
     "output_type": "execute_result"
    }
   ],
   "source": [
    "X.sample((3, 4))"
   ]
  },
  {
   "cell_type": "code",
   "execution_count": 3,
   "metadata": {},
   "outputs": [],
   "source": [
    "X = dist.gamma.Gamma(1, 1)"
   ]
  },
  {
   "cell_type": "code",
   "execution_count": 6,
   "metadata": {},
   "outputs": [
    {
     "data": {
      "text/plain": [
       "(GreaterThanEq(lower_bound=0.0), tensor(1.), tensor(1.))"
      ]
     },
     "execution_count": 6,
     "metadata": {},
     "output_type": "execute_result"
    }
   ],
   "source": [
    "X.support, X.mean, X.variance"
   ]
  },
  {
   "cell_type": "code",
   "execution_count": null,
   "metadata": {},
   "outputs": [],
   "source": []
  }
 ],
 "metadata": {
  "kernelspec": {
   "display_name": "deep",
   "language": "python",
   "name": "python3"
  },
  "language_info": {
   "codemirror_mode": {
    "name": "ipython",
    "version": 3
   },
   "file_extension": ".py",
   "mimetype": "text/x-python",
   "name": "python",
   "nbconvert_exporter": "python",
   "pygments_lexer": "ipython3",
   "version": "3.10.9"
  },
  "orig_nbformat": 4,
  "vscode": {
   "interpreter": {
    "hash": "fa0896bfa97e237aa923e1eedd704848f2ba47387b02b2a5560068e6d284088d"
   }
  }
 },
 "nbformat": 4,
 "nbformat_minor": 2
}
