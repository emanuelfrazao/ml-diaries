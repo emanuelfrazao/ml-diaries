{
 "cells": [
  {
   "attachments": {},
   "cell_type": "markdown",
   "metadata": {},
   "source": [
    "* reading Gentle's book on _Random Number Generation_ (2nd ed)"
   ]
  },
  {
   "cell_type": "markdown",
   "metadata": {},
   "source": [
    "* note to self: we really need to get into monte carlo methods..."
   ]
  },
  {
   "cell_type": "markdown",
   "metadata": {},
   "source": [
    "### sup. reading of first chapters"
   ]
  },
  {
   "attachments": {},
   "cell_type": "markdown",
   "metadata": {},
   "source": [
    "* there are a lot of concerns to have when trying to generate random numbers...\n",
    "* first, there's a somewhat fuzzy distinction between true random numbers/events, and pseudo-random ones:\n",
    "    * we say we have a **true random number/event** when we do not know the process that generates it (even, we guess, when we _know_ its general properties - i.e., the distribution of the associated r.v.)\n",
    "        * e.g.: quantum mechanical events like the spin of an electron (some skeptic could say that it's just on our lack of information to the underlying process) - goodfellow (following perl) called this inherent stochasticity of the system... well!\n",
    "    * more-so, a **sequence of numbers** (with the same _source_) would be **truly random** when the knowledge of past elements in the sequence does not alter our knowledge of the next element\n",
    "    * by oposition (wrt our knowledge), a **pseudo-random number** is just a number which:\n",
    "        * looks random to someone who does not know the underlying process (and here we see the importance of perspective Jaynes so tells us about! ehe)\n",
    "        * is produced by a known (to someone...) process\n",
    "    * **pseudo-random sequences of numbers** follow the same logic\n",
    "    * finally, there would be _deterministic_ numbers - which do not look random to anyone? ehe"
   ]
  },
  {
   "attachments": {},
   "cell_type": "markdown",
   "metadata": {},
   "source": [
    "* the distinction being fundamentally fuzzy wrt to knowledge, is still very important in practice - for there are a lot of application to random number generators:\n",
    "    * from everything with applied monte carlo methods: be it physics, biology, finance, ...\n",
    "    * to cryptography\n",
    "* and these applications have opposite concerns with respect to knowing the process that generated the process:\n",
    "    * in physics and biology applications, as we would be mostly interested in correctly applying monte carlo approximations, knowing the process that generates the random samples is not a concern (or, if it is, one would side on knowing it..!) - as long as it has the desired properties of the wanted distribution\n",
    "    * in cryptography applications, if knowing the random number to be generated gives essential knowledge on the encryption key - then of course one has to have further concerns with how much the process may be known, or exposes it self: more specifically, one has to be concerned with pseudo-random sequences that are quickly telling of the underlying generation mechanism - and the distinction becomes relevant in that we care about how hard (or even impossible - to everyone's knowledge) it is to know the mechanism"
   ]
  },
  {
   "attachments": {},
   "cell_type": "markdown",
   "metadata": {},
   "source": [
    "* in the 90s there was (already) some work on plugging external sources of random numbers into a computer (with ion count decay etc)\n",
    "* there are a lot of products nowadays that provide this - we guess - but not the focus nor the interest... ehe"
   ]
  },
  {
   "attachments": {},
   "cell_type": "markdown",
   "metadata": {},
   "source": [
    "* by the exposition structure of the book, one would assume the primary concern is \n",
    "    * to generate numbers for a **uniform distribution $[0,1]$**\n",
    "* and from there, and the relationships to other distributions, one would get the others (!)\n",
    "* iot do so, one has some concerns:\n",
    "    * we want to represent a dense collection of possibilities with a finite collection of them (the *computer numbers*, *floats*, $\\mathbb{F}$)\n",
    "    * **computer numbers have a set of constraints**:\n",
    "        * they are not equally distributed along $[0, 1]$ - there are usually more numbers between $(0, \\epsilon)$ that in $(1-\\epsilon, 1)$\n",
    "        * they are not a _field_: in that $\\exists x, y \\in \\mathbb{F}: x*y, x+y \\notin \\mathbb{F}$\n",
    "        * and some others that I do not remember\n"
   ]
  },
  {
   "attachments": {},
   "cell_type": "markdown",
   "metadata": {},
   "source": [
    "* so what's the general strategy?"
   ]
  },
  {
   "attachments": {},
   "cell_type": "markdown",
   "metadata": {},
   "source": [
    "* it seems to be always based on congruence arithmetics, be it with modular congruence, or shift congruence..\n",
    "* one keeps hitting on a function to generate the next number\n",
    "* we just need to understand how to take proper care of the limitations whilst going for the desired properties"
   ]
  },
  {
   "attachments": {},
   "cell_type": "markdown",
   "metadata": {},
   "source": [
    "* furthermore, it's all number theory and numerical analysis - as one would assume (!) - then some probability theory on top"
   ]
  },
  {
   "attachments": {},
   "cell_type": "markdown",
   "metadata": {},
   "source": [
    "### computer numbers limitations"
   ]
  },
  {
   "cell_type": "markdown",
   "metadata": {},
   "source": [
    "### uniform pseudo-random generator properties"
   ]
  },
  {
   "attachments": {},
   "cell_type": "markdown",
   "metadata": {},
   "source": [
    "## naive use of congruence"
   ]
  },
  {
   "cell_type": "markdown",
   "metadata": {},
   "source": [
    "* try generating a uniform random integer before reading the solution (!)"
   ]
  },
  {
   "cell_type": "code",
   "execution_count": 45,
   "metadata": {},
   "outputs": [],
   "source": [
    "import matplotlib.pyplot as plt\n",
    "import seaborn as sns\n",
    "from math import gcd\n",
    "from time import perf_counter"
   ]
  },
  {
   "cell_type": "code",
   "execution_count": 11,
   "metadata": {},
   "outputs": [
    {
     "data": {
      "text/plain": [
       "152341.663548791"
      ]
     },
     "execution_count": 11,
     "metadata": {},
     "output_type": "execute_result"
    }
   ],
   "source": [
    "perf_counter()"
   ]
  },
  {
   "cell_type": "code",
   "execution_count": 40,
   "metadata": {},
   "outputs": [],
   "source": [
    "def naive_generate_discrete_uniform(high: int, size: int, seed: int=None) -> list[int]:\n",
    "    \"\"\"Generate a discrete uniform random variable.\n",
    "    Args:\n",
    "        low (int): The lower bound of the distribution.\n",
    "        high (int): The upper bound of the distribution.\n",
    "        size (int): The number of samples to generate.\n",
    "        seed (int): The random seed to use.\n",
    "    Returns:\n",
    "        a list of random numbers\n",
    "    \"\"\"\n",
    "    seed = seed or int(perf_counter() * 1e6)\n",
    "    start = ( seed % high ) + 1\n",
    "    n = high\n",
    "    \n",
    "    # find co-prime with n (or should we find a prime?)\n",
    "    for co_prime in range(int(n ** .5), 1, -1):\n",
    "        if gcd(co_prime, high) == 1:\n",
    "            break\n",
    "    \n",
    "    # generate random numbers\n",
    "    return [ (start + co_prime * i) % n for i in range(size) ]"
   ]
  },
  {
   "cell_type": "code",
   "execution_count": 41,
   "metadata": {},
   "outputs": [
    {
     "data": {
      "image/png": "[encoded data removed]",
      "text/plain": [
       "<Figure size 640x480 with 1 Axes>"
      ]
     },
     "metadata": {},
     "output_type": "display_data"
    }
   ],
   "source": [
    "sample = naive_generate_discrete_uniform(5, 15)\n",
    "sns.countplot(x=sample);"
   ]
  },
  {
   "attachments": {},
   "cell_type": "markdown",
   "metadata": {},
   "source": [
    "* see the problem - the numbers are VERY uniformly distributed:\n",
    "    * for a dist over [0, 1, 2, 3, 4], for each 5 draws, you expect to see every number\n",
    "    * so the first principle - of pseudo-random sequences - is violated!\n",
    "    * plus, it is not even random at this point... be it uniform"
   ]
  },
  {
   "cell_type": "markdown",
   "metadata": {},
   "source": [
    "* see:"
   ]
  },
  {
   "cell_type": "code",
   "execution_count": 44,
   "metadata": {},
   "outputs": [
    {
     "data": {
      "text/plain": [
       "[2, 4, 1, 3]"
      ]
     },
     "metadata": {},
     "output_type": "display_data"
    },
    {
     "data": {
      "text/plain": [
       "[2, 4, 1, 3, 0]"
      ]
     },
     "metadata": {},
     "output_type": "display_data"
    }
   ],
   "source": [
    "display(naive_generate_discrete_uniform(5, 4, seed=666))\n",
    "display(naive_generate_discrete_uniform(5, 5, seed=666))"
   ]
  },
  {
   "cell_type": "markdown",
   "metadata": {},
   "source": [
    "## Congruential Generators"
   ]
  },
  {
   "cell_type": "markdown",
   "metadata": {},
   "source": [
    "### 1. (Simple) Linear Congruential Generator"
   ]
  },
  {
   "attachments": {},
   "cell_type": "markdown",
   "metadata": {},
   "source": [
    "* the basic idea is to generate a sequence $x_{0}, x_{1}, ..., x_{i}$ numbers of the form:\n",
    "    * $x_{0} = (seed \\mod m) + 1$\n",
    "    * $x_{i} = (a*x_{i-1} + c) \\mod m$, with  $0 \\leq x_i < m$\n",
    "* $a$ is then called the **multiplier**, and $c$ the **increment**\n"
   ]
  },
  {
   "cell_type": "markdown",
   "metadata": {},
   "source": [
    "* this is basically what we implemented before... with no increment. which wasn't good.\n",
    "* can we try the increment?"
   ]
  },
  {
   "cell_type": "code",
   "execution_count": 46,
   "metadata": {},
   "outputs": [],
   "source": [
    "def repeat(func, n, *initial_args):\n",
    "    if n <= 1:\n",
    "        return func(*initial_args)\n",
    "    else:\n",
    "        return repeat(func, n-1, *func(*initial_args))"
   ]
  },
  {
   "cell_type": "code",
   "execution_count": 47,
   "metadata": {},
   "outputs": [],
   "source": [
    "def discrete_simple_linear_congruence_generator(high: int, size: int, seed: int=None) -> list[int]:\n",
    "    \"\"\"Generate a discrete uniform random variable with a simple linear congruence generator.\"\"\"\n",
    "    seed = seed or int(perf_counter() * 1e6)\n",
    "    start = ( seed % high ) + 1\n",
    "    \n",
    "    # find co-prime with n (or should we find a prime?) for a multiplier\n",
    "    for multiplier in range(int(high ** .5), 1, -1):\n",
    "        if gcd(multiplier, high) == 1:\n",
    "            break\n",
    "        \n",
    "    # find an increment\n",
    "    increment = 3 # whatever..\n",
    "    \n",
    "    # generate random numbers\n",
    "    operation = lambda x: (multiplier * x  + increment)\n",
    "    random_numbers = []\n",
    "    x = start\n",
    "    for _ in range(size):\n",
    "        x = operation(x) % high\n",
    "        random_numbers.append(x)\n",
    "        \n",
    "    return random_numbers"
   ]
  },
  {
   "cell_type": "code",
   "execution_count": 56,
   "metadata": {},
   "outputs": [
    {
     "data": {
      "text/plain": [
       "[2, 2, 2, 2, 2, 2, 2, 2, 2, 2, 2, 2, 2, 2, 2]"
      ]
     },
     "execution_count": 56,
     "metadata": {},
     "output_type": "execute_result"
    }
   ],
   "source": [
    "discrete_simple_linear_congruence_generator(5, 15, seed=1) # sometimes it gets locked!"
   ]
  },
  {
   "cell_type": "code",
   "execution_count": 64,
   "metadata": {},
   "outputs": [
    {
     "data": {
      "text/plain": [
       "[4, 1, 0, 3, 4, 1, 0, 3, 4, 1, 0, 3, 4, 1, 0]"
      ]
     },
     "metadata": {},
     "output_type": "display_data"
    },
    {
     "data": {
      "image/png": "[encoded data removed]",
      "text/plain": [
       "<Figure size 640x480 with 1 Axes>"
      ]
     },
     "metadata": {},
     "output_type": "display_data"
    }
   ],
   "source": [
    " # the multiplier never shows up!\n",
    "sample = discrete_simple_linear_congruence_generator(5, 15, seed=2)\n",
    "display(sample)\n",
    "plt.scatter(range(len(sample)), sample);"
   ]
  },
  {
   "cell_type": "markdown",
   "metadata": {},
   "source": [
    "* this clearly has easily solvable problems... (but one wants to see goodfellow!)"
   ]
  },
  {
   "attachments": {},
   "cell_type": "markdown",
   "metadata": {},
   "source": [
    "* still, the clear problems might not be such, since this will be the way to actually generate for the continuous uniform:\n",
    "    * dividing the result by $m$,\n",
    "    * and choosing a gigantic $m$ for that.."
   ]
  },
  {
   "attachments": {},
   "cell_type": "markdown",
   "metadata": {},
   "source": [
    "* still: here's when we need - already - some refreshing on number theory... - tomorrow!"
   ]
  },
  {
   "attachments": {},
   "cell_type": "markdown",
   "metadata": {},
   "source": [
    "* where we go into lattices and field properties"
   ]
  },
  {
   "attachments": {},
   "cell_type": "markdown",
   "metadata": {},
   "source": [
    "* seems like a great book.."
   ]
  }
 ],
 "metadata": {
  "kernelspec": {
   "display_name": "lew",
   "language": "python",
   "name": "python3"
  },
  "language_info": {
   "codemirror_mode": {
    "name": "ipython",
    "version": 3
   },
   "file_extension": ".py",
   "mimetype": "text/x-python",
   "name": "python",
   "nbconvert_exporter": "python",
   "pygments_lexer": "ipython3",
   "version": "3.10.9"
  },
  "orig_nbformat": 4,
  "vscode": {
   "interpreter": {
    "hash": "737a60cdb60ce0e7b2cbb61a832f7f77656e2305e838eae61f4045b6f779a0b3"
   }
  }
 },
 "nbformat": 4,
 "nbformat_minor": 2
}
